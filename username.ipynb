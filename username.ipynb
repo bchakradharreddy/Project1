{
  "nbformat": 4,
  "nbformat_minor": 0,
  "metadata": {
    "colab": {
      "provenance": [],
      "authorship_tag": "ABX9TyOT8IVTj1WcTg838ruZKJMH",
      "include_colab_link": true
    },
    "kernelspec": {
      "name": "python3",
      "display_name": "Python 3"
    },
    "language_info": {
      "name": "python"
    }
  },
  "cells": [
    {
      "cell_type": "markdown",
      "metadata": {
        "id": "view-in-github",
        "colab_type": "text"
      },
      "source": [
        "<a href=\"https://colab.research.google.com/github/bchakradharreddy/Project1/blob/main/username.ipynb\" target=\"_parent\"><img src=\"https://colab.research.google.com/assets/colab-badge.svg\" alt=\"Open In Colab\"/></a>"
      ]
    },
    {
      "cell_type": "code",
      "source": [
        "import random\n",
        "def save_usernames_to_file(usernames, filename=\"usernames.txt\"):\n",
        "    with open(filename, \"w\") as file:\n",
        "        for username in usernames:\n",
        "            file.write(username + \"\\n\")\n",
        "adjectives = [\"cool\", \"happy\", \"fast\", \"bright\", \"lazy\", \"wild\", \"smart\", \"brave\"]\n",
        "nouns = [\"tiger\", \"dragon\", \"lion\", \"wolf\", \"eagle\", \"panda\", \"shark\", \"falcon\"]\n",
        "numbers=input(\"includenumbres?(Yes/no)\")\n",
        "specialchars=input(\"include chars?(Yes/no)\")\n",
        "num_usernames=int(input(\"enter the number of usernames:\"))\n",
        "usernames_list=[]\n",
        "for i in range(num_usernames):\n",
        "  username=random.choice(adjectives)+random.choice(nouns)\n",
        "  if numbers.lower() == \"yes\":\n",
        "      username += str(random.choice(range(0,99)))\n",
        "  if specialchars.lower() == \"yes\":\n",
        "      username += random.choice([\"*\", \"$\", \"#\", \"&\", \"@\", \":\", \"/\"])\n",
        "  print(username)\n",
        "  usernames_list.append(username)\n",
        "  save_usernames_to_file(usernames_list)\n",
        "  print(f\"usernamen saved to 'usernames.txt'\")"
      ],
      "metadata": {
        "colab": {
          "base_uri": "https://localhost:8080/"
        },
        "id": "_c73f8EnSNwV",
        "outputId": "d023df01-48b3-4e76-9d6b-e6aa8847a971"
      },
      "execution_count": 1,
      "outputs": [
        {
          "output_type": "stream",
          "name": "stdout",
          "text": [
            "includenumbres?(Yes/no)yes\n",
            "include chars?(Yes/no)no\n",
            "enter the number of usernames:5\n",
            "bravefalcon97\n",
            "usernamen saved to 'usernames.txt'\n",
            "wildeagle48\n",
            "usernamen saved to 'usernames.txt'\n",
            "smartdragon29\n",
            "usernamen saved to 'usernames.txt'\n",
            "happywolf88\n",
            "usernamen saved to 'usernames.txt'\n",
            "coolfalcon85\n",
            "usernamen saved to 'usernames.txt'\n"
          ]
        }
      ]
    }
  ]
}